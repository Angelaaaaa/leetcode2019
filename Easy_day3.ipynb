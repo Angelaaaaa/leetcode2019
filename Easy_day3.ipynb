{
 "cells": [
  {
   "cell_type": "code",
   "execution_count": 1,
   "metadata": {},
   "outputs": [],
   "source": [
    "#1175\n",
    "\n",
    "class Solution:\n",
    "    def numPrimeArrangements(self, n: int) -> int:\n",
    "        import math\n",
    "        primes = [2, 3, 5, 7, 11, 13, 17, 19, 23, 29, 31, 37, 41, 43, 47, 53, 59, 61, 67, 71, 73, 79, 83, 89, 97]\n",
    "        primes_cnt = 0\n",
    "        for i in primes:\n",
    "            if i <= n:\n",
    "                primes_cnt += 1\n",
    "        return math.factorial(n - primes_cnt) * math.factorial(primes_cnt) % (10**9 + 7)"
   ]
  },
  {
   "cell_type": "code",
   "execution_count": null,
   "metadata": {},
   "outputs": [],
   "source": []
  },
  {
   "cell_type": "code",
   "execution_count": 4,
   "metadata": {},
   "outputs": [],
   "source": [
    "#1170\n",
    "from bisect import bisect\n",
    "\n",
    "class Solution:\n",
    "    def numSmallerByFrequency(self, queries, words) :\n",
    "        words_freq = sorted([word.count(min(word)) for word in words ])\n",
    "        result = []\n",
    "        for query in quries:\n",
    "            q_min = min(query)\n",
    "            q_count = query.count(q_min)\n",
    "            result.append(len(words) - bisect.bisect(words_freq,q_count))\n",
    "        return result"
   ]
  },
  {
   "cell_type": "code",
   "execution_count": 27,
   "metadata": {},
   "outputs": [],
   "source": [
    "#1154\n",
    "\n",
    "class Solution:\n",
    "    def dayOfYear(self, date):\n",
    "        lst_date = date.split('-')\n",
    "        \n",
    "        m1 = {1:31,2:28,3:31,4:30,5:31,6:30,7:31,8:31,9:30,10:31,11:30,12:31}\n",
    "        m2 = {1:31,2:29,3:31,4:30,5:31,6:30,7:31,8:31,9:30,10:31,11:30,12:31}\n",
    "        \n",
    "        res =[]\n",
    "        if int(lst_date[0])%4==0 and int(lst_date[0])%100 !=0:\n",
    "            for month in range(1,int(lst_date[1])):\n",
    "                res.append(m2[month])\n",
    "            return int(lst_date[2])+sum(res)\n",
    "        \n",
    "        else:\n",
    "            for month in range(1,int(lst_date[1])):\n",
    "                res.append(m1[month])\n",
    "            return int(lst_date[2])+sum(res)"
   ]
  }
 ],
 "metadata": {
  "kernelspec": {
   "display_name": "Python 3",
   "language": "python",
   "name": "python3"
  },
  "language_info": {
   "codemirror_mode": {
    "name": "ipython",
    "version": 3
   },
   "file_extension": ".py",
   "mimetype": "text/x-python",
   "name": "python",
   "nbconvert_exporter": "python",
   "pygments_lexer": "ipython3",
   "version": "3.6.4"
  }
 },
 "nbformat": 4,
 "nbformat_minor": 2
}
