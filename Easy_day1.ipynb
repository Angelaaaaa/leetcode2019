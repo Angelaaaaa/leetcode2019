{
 "cells": [
  {
   "cell_type": "code",
   "execution_count": null,
   "metadata": {},
   "outputs": [],
   "source": [
    "#1207\n",
    "\n",
    "class Solution:\n",
    "    def uniqueOccurrences(self, arr):\n",
    "        dict1 = {}\n",
    "        list1 = []\n",
    "        for i in arr:\n",
    "            if i not in dict1.keys():\n",
    "                dict1[i]=1\n",
    "            else:\n",
    "                dict1[i]+=1\n",
    "                \n",
    "        sorted(dict1.items(),key=lambda item:item[1])\n",
    "        for j in dict1.values():\n",
    "            list1.append(j)\n",
    "            \n",
    "        #print(len(list1))\n",
    "        #print(list1)\n",
    "        \n",
    "        if len(list1)==len(set(list1)):\n",
    "            return True\n",
    "        else:\n",
    "            return False\n",
    "        "
   ]
  },
  {
   "cell_type": "code",
   "execution_count": null,
   "metadata": {},
   "outputs": [],
   "source": [
    "#1200\n",
    "\n",
    "class Solution:\n",
    "    def minimumAbsDifference(self, arr: List[int]) -> List[List[int]]:\n",
    "        arr.sort()\n",
    "        bench = arr[1]-arr[0]\n",
    "        res = []\n",
    "        for i in range(0,len(arr)-1):\n",
    "            diff = arr[i+1]-arr[i]\n",
    "            if diff < bench:\n",
    "                res = [[arr[i],arr[i+1]]]\n",
    "                bench = diff\n",
    "            \n",
    "            elif diff == bench:\n",
    "                res.append([arr[i],arr[i+1]])\n",
    "        return res"
   ]
  },
  {
   "cell_type": "code",
   "execution_count": null,
   "metadata": {},
   "outputs": [],
   "source": []
  },
  {
   "cell_type": "code",
   "execution_count": 2,
   "metadata": {},
   "outputs": [
    {
     "ename": "SyntaxError",
     "evalue": "invalid syntax (<ipython-input-2-ae3733739cff>, line 3)",
     "output_type": "error",
     "traceback": [
      "\u001b[0;36m  File \u001b[0;32m\"<ipython-input-2-ae3733739cff>\"\u001b[0;36m, line \u001b[0;32m3\u001b[0m\n\u001b[0;31m    select id,\u001b[0m\n\u001b[0m            ^\u001b[0m\n\u001b[0;31mSyntaxError\u001b[0m\u001b[0;31m:\u001b[0m invalid syntax\n"
     ]
    }
   ],
   "source": [
    "#1179\n",
    "\n",
    "select id, \n",
    "\tsum(case when month = 'jan' then revenue else null end) as Jan_Revenue,\n",
    "\tsum(case when month = 'feb' then revenue else null end) as Feb_Revenue,\n",
    "\tsum(case when month = 'mar' then revenue else null end) as Mar_Revenue,\n",
    "\tsum(case when month = 'apr' then revenue else null end) as Apr_Revenue,\n",
    "\tsum(case when month = 'may' then revenue else null end) as May_Revenue,\n",
    "\tsum(case when month = 'jun' then revenue else null end) as Jun_Revenue,\n",
    "\tsum(case when month = 'jul' then revenue else null end) as Jul_Revenue,\n",
    "\tsum(case when month = 'aug' then revenue else null end) as Aug_Revenue,\n",
    "\tsum(case when month = 'sep' then revenue else null end) as Sep_Revenue,\n",
    "\tsum(case when month = 'oct' then revenue else null end) as Oct_Revenue,\n",
    "\tsum(case when month = 'nov' then revenue else null end) as Nov_Revenue,\n",
    "\tsum(case when month = 'dec' then revenue else null end) as Dec_Revenue\n",
    "from department\n",
    "group by id\n",
    "order by id"
   ]
  },
  {
   "cell_type": "code",
   "execution_count": null,
   "metadata": {},
   "outputs": [],
   "source": []
  }
 ],
 "metadata": {
  "kernelspec": {
   "display_name": "Python 3",
   "language": "python",
   "name": "python3"
  },
  "language_info": {
   "codemirror_mode": {
    "name": "ipython",
    "version": 3
   },
   "file_extension": ".py",
   "mimetype": "text/x-python",
   "name": "python",
   "nbconvert_exporter": "python",
   "pygments_lexer": "ipython3",
   "version": "3.6.4"
  }
 },
 "nbformat": 4,
 "nbformat_minor": 2
}
