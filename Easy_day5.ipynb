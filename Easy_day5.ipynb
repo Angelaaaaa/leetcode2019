{
 "cells": [
  {
   "cell_type": "code",
   "execution_count": 28,
   "metadata": {},
   "outputs": [],
   "source": [
    "#1089\n",
    "\n",
    "class Solution:\n",
    "    def duplicateZeros(self, arr):\n",
    "        \"\"\"\n",
    "        Do not return anything, modify arr in-place instead.\n",
    "        \"\"\"\n",
    "        res=[]\n",
    "        for i in arr:\n",
    "                res.append(i)\n",
    "        list1=[m for m,n in enumerate(res) if n ==0]\n",
    "            \n",
    "        for j in list1:\n",
    "                res.insert(j+1,0)\n",
    "            \n",
    "        return res[:len(arr)]"
   ]
  },
  {
   "cell_type": "code",
   "execution_count": 29,
   "metadata": {},
   "outputs": [
    {
     "data": {
      "text/plain": [
       "[1, 0, 0, 2]"
      ]
     },
     "execution_count": 29,
     "metadata": {},
     "output_type": "execute_result"
    }
   ],
   "source": [
    "a = Solution()\n",
    "list1 = [1,0,2,3]\n",
    "a.duplicateZeros(list1)"
   ]
  },
  {
   "cell_type": "code",
   "execution_count": null,
   "metadata": {},
   "outputs": [],
   "source": [
    "#1078\n",
    "\n",
    "class Solution:\n",
    "    def findOcurrences(self, text: str, first: str, second: str) -> List[str]:\n",
    "        words = text.split()\n",
    "        output = []\n",
    "        for i in range(len(words) - 2):\n",
    "            if words[i] == first and words[i+1] == second:\n",
    "                output.append(words[i+2])\n",
    "        return output"
   ]
  },
  {
   "cell_type": "code",
   "execution_count": 39,
   "metadata": {},
   "outputs": [],
   "source": [
    "#1071 不太会\n",
    "\n",
    "\n",
    "\n",
    "class Solution(object):\n",
    "    def gcdOfStrings(self, str1, str2):\n",
    "        if len(str1)<len(str2):\n",
    "            l1=len(str1)\n",
    "            l2=len(str2)\n",
    "            s1=str1\n",
    "            s2=str2\n",
    "        else:\n",
    "            l1=len(str2)\n",
    "            l2=len(str1)\n",
    "            s1=str2\n",
    "            s2=str1\n",
    "        i=0\n",
    "        c=1\n",
    "        for i in range(l1):\n",
    "            if str1[i]!=str2[i]:\n",
    "                c=0\n",
    "                break\n",
    "        if c!=0:i+=1\n",
    "        if i==0:return ''\n",
    "        pat=s1[:i]\n",
    "        for j in range(i):\n",
    "            if pat[:i-j]*(l1//(i-j))==s1 and pat[:i-j]*(l2//(i-j))==s2:\n",
    "                return pat[:i-j]\n",
    "        return ''\n",
    "        "
   ]
  },
  {
   "cell_type": "code",
   "execution_count": null,
   "metadata": {},
   "outputs": [],
   "source": []
  }
 ],
 "metadata": {
  "kernelspec": {
   "display_name": "Python 3",
   "language": "python",
   "name": "python3"
  },
  "language_info": {
   "codemirror_mode": {
    "name": "ipython",
    "version": 3
   },
   "file_extension": ".py",
   "mimetype": "text/x-python",
   "name": "python",
   "nbconvert_exporter": "python",
   "pygments_lexer": "ipython3",
   "version": "3.6.4"
  }
 },
 "nbformat": 4,
 "nbformat_minor": 2
}
