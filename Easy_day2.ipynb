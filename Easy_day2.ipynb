{
 "cells": [
  {
   "cell_type": "code",
   "execution_count": 2,
   "metadata": {},
   "outputs": [],
   "source": [
    "#1189\n",
    "\n",
    "class Solution:\n",
    "    def maxNumberOfBalloons(self, text: str) -> int:\n",
    "        b,a,l,l,o,n = 0,0,0,0,0,0\n",
    "        for i in text:\n",
    "            if i =='b':\n",
    "                b +=1\n",
    "            elif i == 'a':\n",
    "                a +=1\n",
    "            elif i == 'l':\n",
    "                l +=1\n",
    "            elif i == 'o':\n",
    "                o +=1\n",
    "            elif i == 'n':\n",
    "                n +=1\n",
    "        return min(b,a,l//2,o//2,n)"
   ]
  },
  {
   "cell_type": "code",
   "execution_count": null,
   "metadata": {},
   "outputs": [],
   "source": []
  },
  {
   "cell_type": "code",
   "execution_count": 3,
   "metadata": {},
   "outputs": [],
   "source": [
    "#1185\n",
    "\n",
    "class Solution:\n",
    "    def dayOfTheWeek(self, day: int, month: int, year: int) -> str:\n",
    "        v = {3:'Sunday',4:'Monday',5:'Tuesday',6:'Wednesday',0:'Thursday',1:\"Friday\", 2:\"Saturday\"}\n",
    "        dayP={1:31,2:28,3:31,4:30,5:31,6:30,7:31,8:31,9:30,10:31,11:30,12:31}\n",
    "        dayR={1:31,2:29,3:31,4:30,5:31,6:30,7:31,8:31,9:30,10:31,11:30,12:31}\n",
    "        myday = {}\n",
    "        sum =0\n",
    "        \n",
    "        if year%4==0:\n",
    "            myday = dayR\n",
    "        else:\n",
    "            myday = dayP\n",
    "            \n",
    "        for mm in range(1971,year):\n",
    "            if mm%4 ==0:\n",
    "                sum +=366\n",
    "            else:\n",
    "                sum +=365\n",
    "                \n",
    "        for i in myday.keys():\n",
    "            if i <month:\n",
    "                sum+= myday[i]\n",
    "            elif i ==month:\n",
    "                sum+=day\n",
    "        for j in v:\n",
    "            if sum %7==j:\n",
    "                return v[j]\n",
    "            "
   ]
  },
  {
   "cell_type": "code",
   "execution_count": null,
   "metadata": {},
   "outputs": [],
   "source": []
  },
  {
   "cell_type": "code",
   "execution_count": null,
   "metadata": {},
   "outputs": [],
   "source": [
    "#1184\n",
    "class Solution:\n",
    "    def distanceBetweenBusStops(self, distance: List[int], start: int, destination: int) -> int:\n",
    "\n",
    "        if start > destination:\n",
    "            start, destination = destination, start\n",
    "        return min( sum(distance[start:destination]), sum(distance[destination:] + distance[:start]))"
   ]
  },
  {
   "cell_type": "code",
   "execution_count": null,
   "metadata": {},
   "outputs": [],
   "source": []
  }
 ],
 "metadata": {
  "kernelspec": {
   "display_name": "Python 3",
   "language": "python",
   "name": "python3"
  },
  "language_info": {
   "codemirror_mode": {
    "name": "ipython",
    "version": 3
   },
   "file_extension": ".py",
   "mimetype": "text/x-python",
   "name": "python",
   "nbconvert_exporter": "python",
   "pygments_lexer": "ipython3",
   "version": "3.6.4"
  }
 },
 "nbformat": 4,
 "nbformat_minor": 2
}
