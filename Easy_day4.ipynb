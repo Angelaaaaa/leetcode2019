{
 "cells": [
  {
   "cell_type": "code",
   "execution_count": null,
   "metadata": {},
   "outputs": [],
   "source": [
    "#1108"
   ]
  },
  {
   "cell_type": "code",
   "execution_count": 3,
   "metadata": {},
   "outputs": [],
   "source": [
    "class Solution:\n",
    "    def defangIPaddr(self, address):\n",
    "        \n",
    "        empty = ''\n",
    "        for i in address:\n",
    "            if i=='.':\n",
    "                empty = empty+'['+i+']'\n",
    "            else:\n",
    "                empty = empty +c        \n",
    "        return empty"
   ]
  },
  {
   "cell_type": "code",
   "execution_count": null,
   "metadata": {},
   "outputs": [],
   "source": []
  },
  {
   "cell_type": "code",
   "execution_count": null,
   "metadata": {},
   "outputs": [],
   "source": [
    "#1114\n",
    "Java"
   ]
  },
  {
   "cell_type": "code",
   "execution_count": null,
   "metadata": {},
   "outputs": [],
   "source": []
  },
  {
   "cell_type": "code",
   "execution_count": 7,
   "metadata": {},
   "outputs": [],
   "source": [
    "#1103\n",
    "\n",
    "class Solution:\n",
    "    def distributeCandies(self, candies, num_people):\n",
    "        people = [0]*num_people\n",
    "        idx = 0\n",
    "        add_candies =1\n",
    "        while candies >0:\n",
    "            if idx == num_people:\n",
    "                idx=0\n",
    "            if candies < add_candies:\n",
    "                people[idx] += candies\n",
    "                break\n",
    "            people[idx] += add_candies\n",
    "            candies -= add_candies\n",
    "            idx +=1\n",
    "            add_candies +=1\n",
    "        return people"
   ]
  },
  {
   "cell_type": "code",
   "execution_count": null,
   "metadata": {},
   "outputs": [],
   "source": []
  }
 ],
 "metadata": {
  "kernelspec": {
   "display_name": "Python 3",
   "language": "python",
   "name": "python3"
  },
  "language_info": {
   "codemirror_mode": {
    "name": "ipython",
    "version": 3
   },
   "file_extension": ".py",
   "mimetype": "text/x-python",
   "name": "python",
   "nbconvert_exporter": "python",
   "pygments_lexer": "ipython3",
   "version": "3.6.4"
  }
 },
 "nbformat": 4,
 "nbformat_minor": 2
}
